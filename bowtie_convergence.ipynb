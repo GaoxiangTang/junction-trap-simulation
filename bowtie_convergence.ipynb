{
 "cells": [
  {
   "cell_type": "markdown",
   "metadata": {},
   "source": [
    "# 三角划分trap的STL文件，使得势场性质收敛\n",
    "\n",
    "原始STL文件三角形个数较少，通过格林函数传播子计算空间势场精度不够。需要通过将三角形细化得到精确的空间势场分布\n",
    "\n",
    "### 细化方法\n",
    "采用了meshLab的Remeshing: Isotropic Explicit Remeshing方法。\n",
    "\n",
    "### 判断标准\n",
    "每一次remeshing都会让三角形个数增多，基于新获得的细化网格，计算原点的rf零点高度，直到rf零点高度不会再因为网格细化而变化。此时我们认为势场已经收敛，即再增加网格密度失去意义。\n",
    "\n",
    "### 结果\n",
    "结果发现，5次细化后的网格文件对应的势场参数已经接近收敛。后续将以`bowtie_ie5.stl`文件为基准计算势场"
   ]
  },
  {
   "cell_type": "code",
   "execution_count": 1,
   "metadata": {},
   "outputs": [],
   "source": [
    "from potential_initialization import *\n",
    "from trap_model import *\n",
    "%load_ext autoreload\n",
    "%autoreload 2\n",
    "# 缓存pseudo potential在一个字典中，若在调试时修改了trap_model的定义可以快速初始化\n",
    "pbi= dict()"
   ]
  },
  {
   "cell_type": "code",
   "execution_count": 2,
   "metadata": {},
   "outputs": [
    {
     "name": "stdout",
     "output_type": "stream",
     "text": [
      "Calculating charge basis\n"
     ]
    },
    {
     "data": {
      "application/vnd.jupyter.widget-view+json": {
       "model_id": "fc3a94695e1f4061bedf73c94120e20e",
       "version_major": 2,
       "version_minor": 0
      },
      "text/plain": [
       "  0%|          | 0/130 [00:00<?, ?it/s]"
      ]
     },
     "metadata": {},
     "output_type": "display_data"
    },
    {
     "name": "stdout",
     "output_type": "stream",
     "text": [
      "Calculating propagators with #40 as rf\n"
     ]
    },
    {
     "data": {
      "application/vnd.jupyter.widget-view+json": {
       "model_id": "3c4ff484e0014b8ba989e9625c003a9f",
       "version_major": 2,
       "version_minor": 0
      },
      "text/plain": [
       "  0%|          | 0/130 [00:00<?, ?it/s]"
      ]
     },
     "metadata": {},
     "output_type": "display_data"
    },
    {
     "data": {
      "application/vnd.jupyter.widget-view+json": {
       "model_id": "da6bfa3e611f4aefa0e9cb2b43219c4a",
       "version_major": 2,
       "version_minor": 0
      },
      "text/plain": [
       "  0%|          | 0/47 [00:00<?, ?it/s]"
      ]
     },
     "metadata": {},
     "output_type": "display_data"
    },
    {
     "data": {
      "application/vnd.jupyter.widget-view+json": {
       "model_id": "76a210b219bc4b1a8c9c8259583bb054",
       "version_major": 2,
       "version_minor": 0
      },
      "text/plain": [
       "  0%|          | 0/6 [00:00<?, ?it/s]"
      ]
     },
     "metadata": {},
     "output_type": "display_data"
    }
   ],
   "source": [
    "'''\n",
    "原始网格\n",
    "'''\n",
    "# 设置需要计算势场的区域\n",
    "shuttle_range = [[-0.02, 0.03], [-0.1, 0.1], [0.08, 0.2]]\n",
    "stepsize = 0.01\n",
    "# rf电压和频率需要提前设置\n",
    "V_rf = 160\n",
    "omega_rf = 2 * np.pi * 16e6\n",
    "# 初始化trap_model类型\n",
    "bowtie = trap_model(\"bowtie\", V_rf, omega_rf, shuttle_range, stepsize, pbi, regenerate=True)"
   ]
  },
  {
   "cell_type": "code",
   "execution_count": 12,
   "metadata": {},
   "outputs": [
    {
     "name": "stdout",
     "output_type": "stream",
     "text": [
      "Calculating charge basis\n"
     ]
    },
    {
     "data": {
      "application/vnd.jupyter.widget-view+json": {
       "model_id": "c44f06c1a4194b4c818714e322801b97",
       "version_major": 2,
       "version_minor": 0
      },
      "text/plain": [
       "  0%|          | 0/436 [00:00<?, ?it/s]"
      ]
     },
     "metadata": {},
     "output_type": "display_data"
    },
    {
     "name": "stdout",
     "output_type": "stream",
     "text": [
      "Calculating propagators with #40 as rf\n"
     ]
    },
    {
     "data": {
      "application/vnd.jupyter.widget-view+json": {
       "model_id": "1b954616b226462c9b3b8a4e55e821c2",
       "version_major": 2,
       "version_minor": 0
      },
      "text/plain": [
       "  0%|          | 0/436 [00:00<?, ?it/s]"
      ]
     },
     "metadata": {},
     "output_type": "display_data"
    },
    {
     "data": {
      "application/vnd.jupyter.widget-view+json": {
       "model_id": "76208272426d4a77b9da2babb4e28269",
       "version_major": 2,
       "version_minor": 0
      },
      "text/plain": [
       "  0%|          | 0/47 [00:00<?, ?it/s]"
      ]
     },
     "metadata": {},
     "output_type": "display_data"
    },
    {
     "data": {
      "application/vnd.jupyter.widget-view+json": {
       "model_id": "e4598382b1c54be891cc4a884b7003d3",
       "version_major": 2,
       "version_minor": 0
      },
      "text/plain": [
       "  0%|          | 0/6 [00:00<?, ?it/s]"
      ]
     },
     "metadata": {},
     "output_type": "display_data"
    }
   ],
   "source": [
    "'''\n",
    "细化1次的表格\n",
    "'''\n",
    "\n",
    "# 设置需要计算势场的区域\n",
    "pbi= dict()\n",
    "shuttle_range = [[-0.02, 0.03], [-0.1, 0.1], [0.08, 0.2]]\n",
    "stepsize = 0.01\n",
    "# rf电压和频率需要提前设置\n",
    "V_rf = 160\n",
    "omega_rf = 2 * np.pi * 16e6\n",
    "# 初始化trap_model类型\n",
    "bowtie1 = trap_model(\"bowtie_ie1\", V_rf, omega_rf, shuttle_range, stepsize, pbi, regenerate=True)"
   ]
  },
  {
   "cell_type": "code",
   "execution_count": 37,
   "metadata": {},
   "outputs": [
    {
     "name": "stdout",
     "output_type": "stream",
     "text": [
      "Calculating charge basis\n"
     ]
    },
    {
     "data": {
      "application/vnd.jupyter.widget-view+json": {
       "model_id": "c7b1314c8dae4e23ab6ec5379899466f",
       "version_major": 2,
       "version_minor": 0
      },
      "text/plain": [
       "  0%|          | 0/1204 [00:00<?, ?it/s]"
      ]
     },
     "metadata": {},
     "output_type": "display_data"
    },
    {
     "name": "stdout",
     "output_type": "stream",
     "text": [
      "Calculating propagators with #12 as rf\n"
     ]
    },
    {
     "data": {
      "application/vnd.jupyter.widget-view+json": {
       "model_id": "4165274e7bf3444292d6ff3cb2d61854",
       "version_major": 2,
       "version_minor": 0
      },
      "text/plain": [
       "  0%|          | 0/1204 [00:00<?, ?it/s]"
      ]
     },
     "metadata": {},
     "output_type": "display_data"
    },
    {
     "data": {
      "application/vnd.jupyter.widget-view+json": {
       "model_id": "b7c9a8e86832493d817c77be251163e8",
       "version_major": 2,
       "version_minor": 0
      },
      "text/plain": [
       "  0%|          | 0/47 [00:00<?, ?it/s]"
      ]
     },
     "metadata": {},
     "output_type": "display_data"
    },
    {
     "data": {
      "application/vnd.jupyter.widget-view+json": {
       "model_id": "8e836e58356646bda39594cd942af6fb",
       "version_major": 2,
       "version_minor": 0
      },
      "text/plain": [
       "  0%|          | 0/6 [00:00<?, ?it/s]"
      ]
     },
     "metadata": {},
     "output_type": "display_data"
    }
   ],
   "source": [
    "'''\n",
    "细化2次的表格\n",
    "'''\n",
    "# 设置需要计算势场的区域\n",
    "pbi= dict()\n",
    "shuttle_range = [[-0.02, 0.03], [-0.1, 0.1], [0.08, 0.2]]\n",
    "stepsize = 0.01\n",
    "# rf电压和频率需要提前设置\n",
    "V_rf = 160\n",
    "omega_rf = 2 * np.pi * 16e6\n",
    "# 初始化trap_model类型\n",
    "bowtie2 = trap_model(\"bowtie_ie2\", V_rf, omega_rf, shuttle_range, stepsize, pbi, regenerate=True, rf_id=12)"
   ]
  },
  {
   "cell_type": "code",
   "execution_count": 40,
   "metadata": {},
   "outputs": [
    {
     "name": "stdout",
     "output_type": "stream",
     "text": [
      "Calculating charge basis\n"
     ]
    },
    {
     "data": {
      "application/vnd.jupyter.widget-view+json": {
       "model_id": "8c473b06a4f047cfad4da01652e4ff7d",
       "version_major": 2,
       "version_minor": 0
      },
      "text/plain": [
       "  0%|          | 0/2557 [00:00<?, ?it/s]"
      ]
     },
     "metadata": {},
     "output_type": "display_data"
    },
    {
     "name": "stdout",
     "output_type": "stream",
     "text": [
      "Calculating propagators with #12 as rf\n"
     ]
    },
    {
     "data": {
      "application/vnd.jupyter.widget-view+json": {
       "model_id": "708e1ce6d4da49408142406c65ab0246",
       "version_major": 2,
       "version_minor": 0
      },
      "text/plain": [
       "  0%|          | 0/2557 [00:00<?, ?it/s]"
      ]
     },
     "metadata": {},
     "output_type": "display_data"
    },
    {
     "data": {
      "application/vnd.jupyter.widget-view+json": {
       "model_id": "151b2f2a1efa4a50aa0ac9488136463c",
       "version_major": 2,
       "version_minor": 0
      },
      "text/plain": [
       "  0%|          | 0/47 [00:00<?, ?it/s]"
      ]
     },
     "metadata": {},
     "output_type": "display_data"
    },
    {
     "data": {
      "application/vnd.jupyter.widget-view+json": {
       "model_id": "a8ff93a1db0048bbb9bf8ab42e14469b",
       "version_major": 2,
       "version_minor": 0
      },
      "text/plain": [
       "  0%|          | 0/6 [00:00<?, ?it/s]"
      ]
     },
     "metadata": {},
     "output_type": "display_data"
    }
   ],
   "source": [
    "'''\n",
    "细化3次的表格\n",
    "'''\n",
    "# 设置需要计算势场的区域\n",
    "pbi= dict()\n",
    "shuttle_range = [[-0.02, 0.03], [-0.1, 0.1], [0.08, 0.2]]\n",
    "stepsize = 0.01\n",
    "# rf电压和频率需要提前设置\n",
    "V_rf = 160\n",
    "omega_rf = 2 * np.pi * 16e6\n",
    "# 初始化trap_model类型\n",
    "bowtie3 = trap_model(\"bowtie_ie3\", V_rf, omega_rf, shuttle_range, stepsize, pbi, regenerate=True, rf_id=12)"
   ]
  },
  {
   "cell_type": "code",
   "execution_count": 43,
   "metadata": {},
   "outputs": [
    {
     "name": "stdout",
     "output_type": "stream",
     "text": [
      "Calculating charge basis\n"
     ]
    },
    {
     "data": {
      "application/vnd.jupyter.widget-view+json": {
       "model_id": "e7d421291d264f769a6125761dc0d0d5",
       "version_major": 2,
       "version_minor": 0
      },
      "text/plain": [
       "  0%|          | 0/3655 [00:00<?, ?it/s]"
      ]
     },
     "metadata": {},
     "output_type": "display_data"
    },
    {
     "name": "stdout",
     "output_type": "stream",
     "text": [
      "Calculating propagators with #12 as rf\n"
     ]
    },
    {
     "data": {
      "application/vnd.jupyter.widget-view+json": {
       "model_id": "8428c774e74e4e768c19d261545177dc",
       "version_major": 2,
       "version_minor": 0
      },
      "text/plain": [
       "  0%|          | 0/3655 [00:00<?, ?it/s]"
      ]
     },
     "metadata": {},
     "output_type": "display_data"
    },
    {
     "data": {
      "application/vnd.jupyter.widget-view+json": {
       "model_id": "4a1ab47b37fd43998ee9c0b59e3281a9",
       "version_major": 2,
       "version_minor": 0
      },
      "text/plain": [
       "  0%|          | 0/47 [00:00<?, ?it/s]"
      ]
     },
     "metadata": {},
     "output_type": "display_data"
    },
    {
     "data": {
      "application/vnd.jupyter.widget-view+json": {
       "model_id": "82929bb400474d6c8d18234f7a1ad099",
       "version_major": 2,
       "version_minor": 0
      },
      "text/plain": [
       "  0%|          | 0/6 [00:00<?, ?it/s]"
      ]
     },
     "metadata": {},
     "output_type": "display_data"
    }
   ],
   "source": [
    "# 设置需要计算势场的区域\n",
    "pbi= dict()\n",
    "shuttle_range = [[-0.02, 0.03], [-0.1, 0.1], [0.08, 0.2]]\n",
    "stepsize = 0.01\n",
    "# rf电压和频率需要提前设置\n",
    "V_rf = 160\n",
    "omega_rf = 2 * np.pi * 16e6\n",
    "# 初始化trap_model类型\n",
    "bowtie4 = trap_model(\"bowtie_ie4\", V_rf, omega_rf, shuttle_range, stepsize, pbi, regenerate=True, rf_id=12)"
   ]
  },
  {
   "cell_type": "code",
   "execution_count": 4,
   "metadata": {},
   "outputs": [
    {
     "data": {
      "application/vnd.jupyter.widget-view+json": {
       "model_id": "c5c3f082884a4bef9f79d00ff8a9fa37",
       "version_major": 2,
       "version_minor": 0
      },
      "text/plain": [
       "  0%|          | 0/47 [00:00<?, ?it/s]"
      ]
     },
     "metadata": {},
     "output_type": "display_data"
    },
    {
     "data": {
      "application/vnd.jupyter.widget-view+json": {
       "model_id": "215f2e14b57c45f997e47f1ae9f77fef",
       "version_major": 2,
       "version_minor": 0
      },
      "text/plain": [
       "  0%|          | 0/6 [00:00<?, ?it/s]"
      ]
     },
     "metadata": {},
     "output_type": "display_data"
    }
   ],
   "source": [
    "# 设置需要计算势场的区域\n",
    "pbi= dict()\n",
    "shuttle_range = [[-0.02, 0.03], [-0.1, 0.1], [0.08, 0.2]]\n",
    "stepsize = 0.01\n",
    "# rf电压和频率需要提前设置\n",
    "V_rf = 160\n",
    "omega_rf = 2 * np.pi * 16e6\n",
    "# 初始化trap_model类型\n",
    "bowtie5 = trap_model(\"bowtie_ie5\", V_rf, omega_rf, shuttle_range, stepsize, pbi, regenerate=False, rf_id=12)"
   ]
  },
  {
   "cell_type": "code",
   "execution_count": 49,
   "metadata": {},
   "outputs": [
    {
     "name": "stdout",
     "output_type": "stream",
     "text": [
      "0.08526986347132393\n",
      "0.08628770822879686\n",
      "0.08453135479036146\n",
      "0.08229177757676204\n",
      "0.08251269651129195\n",
      "0.08211998203699962\n"
     ]
    },
    {
     "data": {
      "image/png": "[encoded data removed]",
      "text/plain": [
       "<Figure size 640x480 with 1 Axes>"
      ]
     },
     "metadata": {},
     "output_type": "display_data"
    }
   ],
   "source": [
    "bowtie.reset_rf(V_rf=160, omega_rf=16e6*2*np.pi)\n",
    "print(bowtie.depth_of_trap(0, ploting=True))\n",
    "print(bowtie1.depth_of_trap(0, ploting=True))\n",
    "print(bowtie2.depth_of_trap(0, ploting=True))\n",
    "print(bowtie3.depth_of_trap(0, ploting=True))\n",
    "print(bowtie4.depth_of_trap(0, ploting=True))\n",
    "print(bowtie5.depth_of_trap(0, ploting=True))"
   ]
  },
  {
   "cell_type": "code",
   "execution_count": 23,
   "metadata": {},
   "outputs": [
    {
     "data": {
      "application/vnd.plotly.v1+json": {
       "config": {
        "plotlyServerURL": "https://plot.ly"
       },
       "data": [
        {
         "color": "grey",
         "flatshading": true,
         "hoverinfo": "name",
         "i": [
          0,
          2
         ],
         "j": [
          1,
          3
         ],
         "k": [
          2,
          0
         ],
         "name": "0",
         "opacity": 0.5,
         "showscale": false,
         "type": "mesh3d",
         "x": [
          0.9400100111961365,
          0.9400100111961365,
          1.0599900484085083,
          1.0599900484085083
         ],
         "y": [
          -0.1910099983215332,
          -0.5689899921417236,
          -0.5689899921417236,
          -0.1910099983215332
         ],
         "z": [
          0,
          0,
          0,
          0
         ]
        },
        {
         "color": "grey",
         "flatshading": true,
         "hoverinfo": "name",
         "i": [
          0,
          2
         ],
         "j": [
          1,
          3
         ],
         "k": [
          2,
          0
         ],
         "name": "1",
         "opacity": 0.5,
         "showscale": false,
         "type": "mesh3d",
         "x": [
          0.8120099902153015,
          0.8120099902153015,
          0.9319899678230286,
          0.9319899678230286
         ],
         "y": [
          -0.1910099983215332,
          -0.5689899921417236,
          -0.5689899921417236,
          -0.1910099983215332
         ],
         "z": [
          0,
          0,
          0,
          0
         ]
        },
        {
         "color": "grey",
         "flatshading": true,
         "hoverinfo": "name",
         "i": [
          0,
          2
         ],
         "j": [
          1,
          3
         ],
         "k": [
          2,
          0
         ],
         "name": "2",
         "opacity": 0.5,
         "showscale": false,
         "type": "mesh3d",
         "x": [
          0.8039900064468384,
          0.8039900064468384,
          0.6840100288391113,
          0.6840100288391113
         ],
         "y": [
          -0.5689899921417236,
          -0.1910099983215332,
          -0.1910099983215332,
          -0.5689899921417236
         ],
         "z": [
          0,
          0,
          0,
          0
         ]
        },
        {
         "color": "grey",
         "flatshading": true,
         "hoverinfo": "name",
         "i": [
          0,
          2
         ],
         "j": [
          1,
          3
         ],
         "k": [
          2,
          0
         ],
         "name": "3",
         "opacity": 0.5,
         "showscale": false,
         "type": "mesh3d",
         "x": [
          0.6759899854660034,
          0.6759899854660034,
          0.5560100078582764,
          0.5560100078582764
         ],
         "y": [
          -0.5689899921417236,
          -0.1910099983215332,
          -0.1910099983215332,
          -0.5689899921417236
         ],
         "z": [
          0,
          0,
          0,
          0
         ]
        },
        {
         "color": "grey",
         "flatshading": true,
         "hoverinfo": "name",
         "i": [
          2,
          0
         ],
         "j": [
          3,
          1
         ],
         "k": [
          0,
          2
         ],
         "name": "4",
         "opacity": 0.5,
         "showscale": false,
         "type": "mesh3d",
         "x": [
          0.4280100166797638,
          0.4280100166797638,
          0.5479899644851685,
          0.5479899644851685
         ],
         "y": [
          -0.1910099983215332,
          -0.5689899921417236,
          -0.5689899921417236,
          -0.1910099983215332
         ],
         "z": [
          0,
          0,
          0,
          0
         ]
        },
        {
         "color": "grey",
         "flatshading": true,
         "hoverinfo": "name",
         "i": [
          0,
          2
         ],
         "j": [
          1,
          3
         ],
         "k": [
          2,
          0
         ],
         "name": "5",
         "opacity": 0.5,
         "showscale": false,
         "type": "mesh3d",
         "x": [
          0.3720100224018097,
          0.3720100224018097,
          0.41999000310897827,
          0.41999000310897827
         ],
         "y": [
          -0.1910099983215332,
          -0.5689899921417236,
          -0.5689899921417236,
          -0.1910099983215332
         ],
         "z": [
          0,
          0,
          0,
          0
         ]
        },
        {
         "color": "grey",
         "flatshading": true,
         "hoverinfo": "name",
         "i": [
          0,
          2
         ],
         "j": [
          1,
          3
         ],
         "k": [
          2,
          0
         ],
         "name": "6",
         "opacity": 0.5,
         "showscale": false,
         "type": "mesh3d",
         "x": [
          0.2600100040435791,
          0.2600100040435791,
          0.3079899847507477,
          0.3079899847507477
         ],
         "y": [
          -0.1910099983215332,
          -0.5689899921417236,
          -0.5689899921417236,
          -0.1910099983215332
         ],
         "z": [
          0,
          0,
          0,
          0
         ]
        },
        {
         "color": "grey",
         "flatshading": true,
         "hoverinfo": "name",
         "i": [
          0,
          2
         ],
         "j": [
          1,
          3
         ],
         "k": [
          2,
          0
         ],
         "name": "7",
         "opacity": 0.5,
         "showscale": false,
         "type": "mesh3d",
         "x": [
          0.13200999796390533,
          0.13200999796390533,
          0.25199002027511597,
          0.25199002027511597
         ],
         "y": [
          -0.1910099983215332,
          -0.5689899921417236,
          -0.5689899921417236,
          -0.1910099983215332
         ],
         "z": [
          0,
          0,
          0,
          0
         ]
        },
        {
         "color": "grey",
         "flatshading": true,
         "hoverinfo": "name",
         "i": [
          2,
          0
         ],
         "j": [
          3,
          1
         ],
         "k": [
          0,
          2
         ],
         "name": "8",
         "opacity": 0.5,
         "showscale": false,
         "type": "mesh3d",
         "x": [
          0.123989999294281,
          0.123989999294281,
          0.004010000266134739,
          0.004010000266134739
         ],
         "y": [
          -0.5689899921417236,
          -0.1910099983215332,
          -0.1910099983215332,
          -0.5689899921417236
         ],
         "z": [
          0,
          0,
          0,
          0
         ]
        },
        {
         "color": "grey",
         "flatshading": true,
         "hoverinfo": "name",
         "i": [
          0,
          2
         ],
         "j": [
          1,
          3
         ],
         "k": [
          2,
          0
         ],
         "name": "9",
         "opacity": 0.5,
         "showscale": false,
         "type": "mesh3d",
         "x": [
          -0.123989999294281,
          -0.123989999294281,
          -0.004010000266134739,
          -0.004010000266134739
         ],
         "y": [
          -0.1910099983215332,
          -0.5689899921417236,
          -0.5689899921417236,
          -0.1910099983215332
         ],
         "z": [
          0,
          0,
          0,
          0
         ]
        },
        {
         "color": "grey",
         "flatshading": true,
         "hoverinfo": "name",
         "i": [
          0,
          2
         ],
         "j": [
          1,
          3
         ],
         "k": [
          2,
          0
         ],
         "name": "10",
         "opacity": 0.5,
         "showscale": false,
         "type": "mesh3d",
         "x": [
          -0.25199002027511597,
          -0.25199002027511597,
          -0.13200999796390533,
          -0.13200999796390533
         ],
         "y": [
          -0.1910099983215332,
          -0.5689899921417236,
          -0.5689899921417236,
          -0.1910099983215332
         ],
         "z": [
          0,
          0,
          0,
          0
         ]
        },
        {
         "color": "grey",
         "flatshading": true,
         "hoverinfo": "name",
         "i": [
          0,
          2
         ],
         "j": [
          1,
          3
         ],
         "k": [
          2,
          0
         ],
         "name": "11",
         "opacity": 0.5,
         "showscale": false,
         "type": "mesh3d",
         "x": [
          -0.3079899847507477,
          -0.3079899847507477,
          -0.2600100040435791,
          -0.2600100040435791
         ],
         "y": [
          -0.1910099983215332,
          -0.5689899921417236,
          -0.5689899921417236,
          -0.1910099983215332
         ],
         "z": [
          0,
          0,
          0,
          0
         ]
        },
        {
         "color": "grey",
         "flatshading": true,
         "hoverinfo": "name",
         "i": [
          0,
          2
         ],
         "j": [
          1,
          3
         ],
         "k": [
          2,
          0
         ],
         "name": "12",
         "opacity": 0.5,
         "showscale": false,
         "type": "mesh3d",
         "x": [
          -0.3720100224018097,
          -0.3720100224018097,
          -0.41999000310897827,
          -0.41999000310897827
         ],
         "y": [
          -0.5689899921417236,
          -0.1910099983215332,
          -0.1910099983215332,
          -0.5689899921417236
         ],
         "z": [
          0,
          0,
          0,
          0
         ]
        },
        {
         "color": "grey",
         "flatshading": true,
         "hoverinfo": "name",
         "i": [
          0,
          2
         ],
         "j": [
          1,
          3
         ],
         "k": [
          2,
          0
         ],
         "name": "13",
         "opacity": 0.5,
         "showscale": false,
         "type": "mesh3d",
         "x": [
          -0.4280100166797638,
          -0.4280100166797638,
          -0.5479899644851685,
          -0.5479899644851685
         ],
         "y": [
          -0.5689899921417236,
          -0.1910099983215332,
          -0.1910099983215332,
          -0.5689899921417236
         ],
         "z": [
          0,
          0,
          0,
          0
         ]
        },
        {
         "color": "grey",
         "flatshading": true,
         "hoverinfo": "name",
         "i": [
          0,
          2
         ],
         "j": [
          1,
          3
         ],
         "k": [
          2,
          0
         ],
         "name": "14",
         "opacity": 0.5,
         "showscale": false,
         "type": "mesh3d",
         "x": [
          -0.6759899854660034,
          -0.6759899854660034,
          -0.5560100078582764,
          -0.5560100078582764
         ],
         "y": [
          -0.1910099983215332,
          -0.5689899921417236,
          -0.5689899921417236,
          -0.1910099983215332
         ],
         "z": [
          0,
          0,
          0,
          0
         ]
        },
        {
         "color": "grey",
         "flatshading": true,
         "hoverinfo": "name",
         "i": [
          0,
          2
         ],
         "j": [
          1,
          3
         ],
         "k": [
          2,
          0
         ],
         "name": "15",
         "opacity": 0.5,
         "showscale": false,
         "type": "mesh3d",
         "x": [
          -0.8039900064468384,
          -0.8039900064468384,
          -0.6840100288391113,
          -0.6840100288391113
         ],
         "y": [
          -0.1910099983215332,
          -0.5689899921417236,
          -0.5689899921417236,
          -0.1910099983215332
         ],
         "z": [
          0,
          0,
          0,
          0
         ]
        },
        {
         "color": "grey",
         "flatshading": true,
         "hoverinfo": "name",
         "i": [
          2,
          0
         ],
         "j": [
          3,
          1
         ],
         "k": [
          0,
          2
         ],
         "name": "16",
         "opacity": 0.5,
         "showscale": false,
         "type": "mesh3d",
         "x": [
          -0.9319899678230286,
          -0.9319899678230286,
          -0.8120099902153015,
          -0.8120099902153015
         ],
         "y": [
          -0.1910099983215332,
          -0.5689899921417236,
          -0.5689899921417236,
          -0.1910099983215332
         ],
         "z": [
          0,
          0,
          0,
          0
         ]
        },
        {
         "color": "grey",
         "flatshading": true,
         "hoverinfo": "name",
         "i": [
          0,
          2
         ],
         "j": [
          1,
          3
         ],
         "k": [
          2,
          0
         ],
         "name": "17",
         "opacity": 0.5,
         "showscale": false,
         "type": "mesh3d",
         "x": [
          -1.0599900484085083,
          -1.0599900484085083,
          -0.9400100111961365,
          -0.9400100111961365
         ],
         "y": [
          -0.1910099983215332,
          -0.5689899921417236,
          -0.5689899921417236,
          -0.1910099983215332
         ],
         "z": [
          0,
          0,
          0,
          0
         ]
        },
        {
         "color": "grey",
         "flatshading": true,
         "hoverinfo": "name",
         "i": [
          0,
          2
         ],
         "j": [
          1,
          3
         ],
         "k": [
          2,
          0
         ],
         "name": "18",
         "opacity": 0.5,
         "showscale": false,
         "type": "mesh3d",
         "x": [
          1.0599900484085083,
          1.0599900484085083,
          0.9400100111961365,
          0.9400100111961365
         ],
         "y": [
          0.1910099983215332,
          0.5689899921417236,
          0.5689899921417236,
          0.1910099983215332
         ],
         "z": [
          0,
          0,
          0,
          0
         ]
        },
        {
         "color": "grey",
         "flatshading": true,
         "hoverinfo": "name",
         "i": [
          0,
          2
         ],
         "j": [
          1,
          3
         ],
         "k": [
          2,
          0
         ],
         "name": "19",
         "opacity": 0.5,
         "showscale": false,
         "type": "mesh3d",
         "x": [
          0.8120099902153015,
          0.8120099902153015,
          0.9319899678230286,
          0.9319899678230286
         ],
         "y": [
          0.5689899921417236,
          0.1910099983215332,
          0.1910099983215332,
          0.5689899921417236
         ],
         "z": [
          0,
          0,
          0,
          0
         ]
        },
        {
         "color": "grey",
         "flatshading": true,
         "hoverinfo": "name",
         "i": [
          0,
          2
         ],
         "j": [
          1,
          3
         ],
         "k": [
          2,
          0
         ],
         "name": "20",
         "opacity": 0.5,
         "showscale": false,
         "type": "mesh3d",
         "x": [
          0.6840100288391113,
          0.6840100288391113,
          0.8039900064468384,
          0.8039900064468384
         ],
         "y": [
          0.5689899921417236,
          0.1910099983215332,
          0.1910099983215332,
          0.5689899921417236
         ],
         "z": [
          0,
          0,
          0,
          0
         ]
        },
        {
         "color": "grey",
         "flatshading": true,
         "hoverinfo": "name",
         "i": [
          0,
          2
         ],
         "j": [
          1,
          3
         ],
         "k": [
          2,
          0
         ],
         "name": "21",
         "opacity": 0.5,
         "showscale": false,
         "type": "mesh3d",
         "x": [
          0.5560100078582764,
          0.5560100078582764,
          0.6759899854660034,
          0.6759899854660034
         ],
         "y": [
          0.5689899921417236,
          0.1910099983215332,
          0.1910099983215332,
          0.5689899921417236
         ],
         "z": [
          0,
          0,
          0,
          0
         ]
        },
        {
         "color": "grey",
         "flatshading": true,
         "hoverinfo": "name",
         "i": [
          0,
          2
         ],
         "j": [
          1,
          3
         ],
         "k": [
          2,
          0
         ],
         "name": "22",
         "opacity": 0.5,
         "showscale": false,
         "type": "mesh3d",
         "x": [
          0.5479899644851685,
          0.5479899644851685,
          0.4280100166797638,
          0.4280100166797638
         ],
         "y": [
          0.1910099983215332,
          0.5689899921417236,
          0.5689899921417236,
          0.1910099983215332
         ],
         "z": [
          0,
          0,
          0,
          0
         ]
        },
        {
         "color": "grey",
         "flatshading": true,
         "hoverinfo": "name",
         "i": [
          0,
          2
         ],
         "j": [
          1,
          3
         ],
         "k": [
          2,
          0
         ],
         "name": "23",
         "opacity": 0.5,
         "showscale": false,
         "type": "mesh3d",
         "x": [
          0.3720100224018097,
          0.3720100224018097,
          0.41999000310897827,
          0.41999000310897827
         ],
         "y": [
          0.5689899921417236,
          0.1910099983215332,
          0.1910099983215332,
          0.5689899921417236
         ],
         "z": [
          0,
          0,
          0,
          0
         ]
        },
        {
         "color": "grey",
         "flatshading": true,
         "hoverinfo": "name",
         "i": [
          2,
          0
         ],
         "j": [
          3,
          1
         ],
         "k": [
          0,
          2
         ],
         "name": "24",
         "opacity": 0.5,
         "showscale": false,
         "type": "mesh3d",
         "x": [
          0.2600100040435791,
          0.2600100040435791,
          0.3079899847507477,
          0.3079899847507477
         ],
         "y": [
          0.5689899921417236,
          0.1910099983215332,
          0.1910099983215332,
          0.5689899921417236
         ],
         "z": [
          0,
          0,
          0,
          0
         ]
        },
        {
         "color": "grey",
         "flatshading": true,
         "hoverinfo": "name",
         "i": [
          0,
          2
         ],
         "j": [
          1,
          3
         ],
         "k": [
          2,
          0
         ],
         "name": "25",
         "opacity": 0.5,
         "showscale": false,
         "type": "mesh3d",
         "x": [
          0.13200999796390533,
          0.13200999796390533,
          0.25199002027511597,
          0.25199002027511597
         ],
         "y": [
          0.5689899921417236,
          0.1910099983215332,
          0.1910099983215332,
          0.5689899921417236
         ],
         "z": [
          0,
          0,
          0,
          0
         ]
        },
        {
         "color": "grey",
         "flatshading": true,
         "hoverinfo": "name",
         "i": [
          0,
          2
         ],
         "j": [
          1,
          3
         ],
         "k": [
          2,
          0
         ],
         "name": "26",
         "opacity": 0.5,
         "showscale": false,
         "type": "mesh3d",
         "x": [
          0.004010000266134739,
          0.004010000266134739,
          0.123989999294281,
          0.123989999294281
         ],
         "y": [
          0.5689899921417236,
          0.1910099983215332,
          0.1910099983215332,
          0.5689899921417236
         ],
         "z": [
          0,
          0,
          0,
          0
         ]
        },
        {
         "color": "grey",
         "flatshading": true,
         "hoverinfo": "name",
         "i": [
          0,
          2
         ],
         "j": [
          1,
          3
         ],
         "k": [
          2,
          0
         ],
         "name": "27",
         "opacity": 0.5,
         "showscale": false,
         "type": "mesh3d",
         "x": [
          -0.123989999294281,
          -0.123989999294281,
          -0.004010000266134739,
          -0.004010000266134739
         ],
         "y": [
          0.5689899921417236,
          0.1910099983215332,
          0.1910099983215332,
          0.5689899921417236
         ],
         "z": [
          0,
          0,
          0,
          0
         ]
        },
        {
         "color": "grey",
         "flatshading": true,
         "hoverinfo": "name",
         "i": [
          0,
          2
         ],
         "j": [
          1,
          3
         ],
         "k": [
          2,
          0
         ],
         "name": "28",
         "opacity": 0.5,
         "showscale": false,
         "type": "mesh3d",
         "x": [
          -0.25199002027511597,
          -0.25199002027511597,
          -0.13200999796390533,
          -0.13200999796390533
         ],
         "y": [
          0.5689899921417236,
          0.1910099983215332,
          0.1910099983215332,
          0.5689899921417236
         ],
         "z": [
          0,
          0,
          0,
          0
         ]
        },
        {
         "color": "grey",
         "flatshading": true,
         "hoverinfo": "name",
         "i": [
          0,
          2
         ],
         "j": [
          1,
          3
         ],
         "k": [
          2,
          0
         ],
         "name": "29",
         "opacity": 0.5,
         "showscale": false,
         "type": "mesh3d",
         "x": [
          -0.3079899847507477,
          -0.3079899847507477,
          -0.2600100040435791,
          -0.2600100040435791
         ],
         "y": [
          0.5689899921417236,
          0.1910099983215332,
          0.1910099983215332,
          0.5689899921417236
         ],
         "z": [
          0,
          0,
          0,
          0
         ]
        },
        {
         "color": "grey",
         "flatshading": true,
         "hoverinfo": "name",
         "i": [
          0,
          2
         ],
         "j": [
          1,
          3
         ],
         "k": [
          2,
          0
         ],
         "name": "30",
         "opacity": 0.5,
         "showscale": false,
         "type": "mesh3d",
         "x": [
          -0.41999000310897827,
          -0.41999000310897827,
          -0.3720100224018097,
          -0.3720100224018097
         ],
         "y": [
          0.5689899921417236,
          0.1910099983215332,
          0.1910099983215332,
          0.5689899921417236
         ],
         "z": [
          0,
          0,
          0,
          0
         ]
        },
        {
         "color": "grey",
         "flatshading": true,
         "hoverinfo": "name",
         "i": [
          2,
          0
         ],
         "j": [
          3,
          1
         ],
         "k": [
          0,
          2
         ],
         "name": "31",
         "opacity": 0.5,
         "showscale": false,
         "type": "mesh3d",
         "x": [
          -0.4280100166797638,
          -0.4280100166797638,
          -0.5479899644851685,
          -0.5479899644851685
         ],
         "y": [
          0.1910099983215332,
          0.5689899921417236,
          0.5689899921417236,
          0.1910099983215332
         ],
         "z": [
          0,
          0,
          0,
          0
         ]
        },
        {
         "color": "grey",
         "flatshading": true,
         "hoverinfo": "name",
         "i": [
          2,
          0
         ],
         "j": [
          3,
          1
         ],
         "k": [
          0,
          2
         ],
         "name": "32",
         "opacity": 0.5,
         "showscale": false,
         "type": "mesh3d",
         "x": [
          -0.6759899854660034,
          -0.6759899854660034,
          -0.5560100078582764,
          -0.5560100078582764
         ],
         "y": [
          0.5689899921417236,
          0.1910099983215332,
          0.1910099983215332,
          0.5689899921417236
         ],
         "z": [
          0,
          0,
          0,
          0
         ]
        },
        {
         "color": "grey",
         "flatshading": true,
         "hoverinfo": "name",
         "i": [
          0,
          2
         ],
         "j": [
          1,
          3
         ],
         "k": [
          2,
          0
         ],
         "name": "33",
         "opacity": 0.5,
         "showscale": false,
         "type": "mesh3d",
         "x": [
          -0.8039900064468384,
          -0.8039900064468384,
          -0.6840100288391113,
          -0.6840100288391113
         ],
         "y": [
          0.5689899921417236,
          0.1910099983215332,
          0.1910099983215332,
          0.5689899921417236
         ],
         "z": [
          0,
          0,
          0,
          0
         ]
        },
        {
         "color": "grey",
         "flatshading": true,
         "hoverinfo": "name",
         "i": [
          0,
          2
         ],
         "j": [
          1,
          3
         ],
         "k": [
          2,
          0
         ],
         "name": "34",
         "opacity": 0.5,
         "showscale": false,
         "type": "mesh3d",
         "x": [
          -0.9319899678230286,
          -0.9319899678230286,
          -0.8120099902153015,
          -0.8120099902153015
         ],
         "y": [
          0.5689899921417236,
          0.1910099983215332,
          0.1910099983215332,
          0.5689899921417236
         ],
         "z": [
          0,
          0,
          0,
          0
         ]
        },
        {
         "color": "grey",
         "flatshading": true,
         "hoverinfo": "name",
         "i": [
          0,
          2
         ],
         "j": [
          1,
          3
         ],
         "k": [
          2,
          0
         ],
         "name": "35",
         "opacity": 0.5,
         "showscale": false,
         "type": "mesh3d",
         "x": [
          -0.9400100111961365,
          -0.9400100111961365,
          -1.0599900484085083,
          -1.0599900484085083
         ],
         "y": [
          0.1910099983215332,
          0.5689899921417236,
          0.5689899921417236,
          0.1910099983215332
         ],
         "z": [
          0,
          0,
          0,
          0
         ]
        },
        {
         "color": "grey",
         "flatshading": true,
         "hoverinfo": "name",
         "i": [
          7,
          5,
          2,
          1,
          0,
          3
         ],
         "j": [
          6,
          2,
          5,
          0,
          1,
          4
         ],
         "k": [
          5,
          1,
          6,
          3,
          2,
          1
         ],
         "name": "36",
         "opacity": 0.5,
         "showscale": false,
         "type": "mesh3d",
         "x": [
          0.3639899790287018,
          0.34045591950416565,
          0.3160099983215332,
          0.3639899790287018,
          0.3426269590854645,
          0.33954405784606934,
          0.3160099983215332,
          0.3373730480670929
         ],
         "y": [
          -0.5689899921417236,
          -0.19535647332668304,
          -0.5689899921417236,
          -0.1910099983215332,
          -0.19101446866989136,
          -0.19535647332668304,
          -0.1910099983215332,
          -0.19101446866989136
         ],
         "z": [
          0,
          0,
          0,
          0,
          0,
          0,
          0,
          0
         ]
        },
        {
         "color": "grey",
         "flatshading": true,
         "hoverinfo": "name",
         "i": [
          0,
          3,
          2,
          5,
          4,
          7
         ],
         "j": [
          1,
          2,
          3,
          4,
          5,
          6
         ],
         "k": [
          2,
          4,
          0,
          6,
          3,
          4
         ],
         "name": "37",
         "opacity": 0.5,
         "showscale": false,
         "type": "mesh3d",
         "x": [
          -0.3160099983215332,
          -0.3373730480670929,
          -0.33954405784606934,
          -0.3160099983215332,
          -0.34045591950416565,
          -0.3639899790287018,
          -0.3639899790287018,
          -0.3426269590854645
         ],
         "y": [
          -0.1910099983215332,
          -0.19101446866989136,
          -0.19535647332668304,
          -0.5689899921417236,
          -0.19535647332668304,
          -0.5689899921417236,
          -0.1910099983215332,
          -0.19101446866989136
         ],
         "z": [
          0,
          0,
          0,
          0,
          0,
          0,
          0,
          0
         ]
        },
        {
         "color": "grey",
         "flatshading": true,
         "hoverinfo": "name",
         "i": [
          4,
          7,
          5,
          0,
          3,
          2
         ],
         "j": [
          7,
          4,
          6,
          1,
          2,
          3
         ],
         "k": [
          3,
          6,
          4,
          2,
          4,
          0
         ],
         "name": "38",
         "opacity": 0.5,
         "showscale": false,
         "type": "mesh3d",
         "x": [
          0.3160099983215332,
          0.3373730480670929,
          0.33954405784606934,
          0.3160099983215332,
          0.34045591950416565,
          0.3426269590854645,
          0.3639899790287018,
          0.3639899790287018
         ],
         "y": [
          0.1910099983215332,
          0.19101446866989136,
          0.19535647332668304,
          0.5689899921417236,
          0.19535647332668304,
          0.19101446866989136,
          0.1910099983215332,
          0.5689899921417236
         ],
         "z": [
          0,
          0,
          0,
          0,
          0,
          0,
          0,
          0
         ]
        },
        {
         "color": "grey",
         "flatshading": true,
         "hoverinfo": "name",
         "i": [
          0,
          3,
          2,
          5,
          7,
          4
         ],
         "j": [
          1,
          2,
          3,
          6,
          4,
          7
         ],
         "k": [
          2,
          4,
          0,
          7,
          2,
          6
         ],
         "name": "39",
         "opacity": 0.5,
         "showscale": false,
         "type": "mesh3d",
         "x": [
          -0.3639899790287018,
          -0.3426269590854645,
          -0.34045591950416565,
          -0.3639899790287018,
          -0.3160099983215332,
          -0.3373730480670929,
          -0.3160099983215332,
          -0.33954405784606934
         ],
         "y": [
          0.1910099983215332,
          0.19101446866989136,
          0.19535647332668304,
          0.5689899921417236,
          0.5689899921417236,
          0.19101446866989136,
          0.1910099983215332,
          0.19535647332668304
         ],
         "z": [
          0,
          0,
          0,
          0,
          0,
          0,
          0,
          0
         ]
        },
        {
         "color": "goldenrod",
         "flatshading": true,
         "hoverinfo": "name",
         "i": [
          11,
          15,
          1,
          14,
          14,
          11,
          12,
          0,
          3,
          4,
          9,
          8,
          5,
          5,
          0,
          0
         ],
         "j": [
          7,
          17,
          0,
          0,
          15,
          12,
          11,
          2,
          4,
          3,
          7,
          7,
          7,
          6,
          1,
          3
         ],
         "k": [
          8,
          16,
          14,
          15,
          16,
          13,
          8,
          3,
          5,
          10,
          6,
          9,
          3,
          7,
          2,
          7
         ],
         "name": "40",
         "opacity": 1,
         "showscale": false,
         "type": "mesh3d",
         "x": [
          1.920009970664978,
          0.002007070928812027,
          2.099989891052246,
          2.099989891052246,
          3.6999900341033936,
          2.099989891052246,
          2.099989891052246,
          1.920009970664978,
          0,
          0.002007070928812027,
          3.6999900341033936,
          -2.0899899005889893,
          -0.002007070928812027,
          -2.0899899005889893,
          0,
          -2.0899899005889893,
          -0.002007070928812027,
          -2.0899899005889893
         ],
         "y": [
          -0.054010000079870224,
          -0.18398292362689972,
          -0.1839900016784668,
          -0.09998999536037445,
          0.09998999536037445,
          0.09998999536037445,
          0.1839900016784668,
          0.054010000079870224,
          0.18198585510253906,
          0.18398292362689972,
          -0.09998999536037445,
          0.054010000079870224,
          0.18398292362689972,
          0.1839900016784668,
          -0.18198585510253906,
          -0.054010000079870224,
          -0.18398292362689972,
          -0.1839900016784668
         ],
         "z": [
          0,
          0,
          0,
          0,
          0,
          0,
          0,
          0,
          0,
          0,
          0,
          0,
          0,
          0,
          0,
          0,
          0,
          0
         ]
        },
        {
         "color": "grey",
         "flatshading": true,
         "hoverinfo": "name",
         "i": [
          0,
          2,
          5,
          4,
          3
         ],
         "j": [
          1,
          3,
          4,
          5,
          2
         ],
         "k": [
          2,
          4,
          3,
          6,
          1
         ],
         "name": "41",
         "opacity": 0.5,
         "showscale": false,
         "type": "mesh3d",
         "x": [
          1.8999899625778198,
          0.0030064017046242952,
          1.8999899625778198,
          0,
          -2.109989881515503,
          -0.0030064017046242952,
          -2.109989881515503
         ],
         "y": [
          -0.0035099999513477087,
          -0.003517682198435068,
          -0.04699000343680382,
          -0.006015364546328783,
          -0.04699000343680382,
          -0.003517682198435068,
          -0.0035099999513477087
         ],
         "z": [
          0,
          0,
          0,
          0,
          0,
          0,
          0
         ]
        },
        {
         "color": "grey",
         "flatshading": true,
         "hoverinfo": "name",
         "i": [
          6,
          3,
          0,
          2,
          4
         ],
         "j": [
          3,
          6,
          1,
          1,
          5
         ],
         "k": [
          4,
          2,
          2,
          3,
          6
         ],
         "name": "42",
         "opacity": 0.5,
         "showscale": false,
         "type": "mesh3d",
         "x": [
          -2.109989881515503,
          -0.0030064017046242952,
          -2.109989881515503,
          0,
          0.0030064017046242952,
          1.8999899625778198,
          1.8999899625778198
         ],
         "y": [
          0.0035099999513477087,
          0.003517682198435068,
          0.04699000343680382,
          0.006015364546328783,
          0.003517682198435068,
          0.0035099999513477087,
          0.04699000343680382
         ],
         "z": [
          0,
          0,
          0,
          0,
          0,
          0,
          0
         ]
        },
        {
         "color": "grey",
         "flatshading": true,
         "hoverinfo": "name",
         "i": [
          0,
          2
         ],
         "j": [
          1,
          3
         ],
         "k": [
          2,
          0
         ],
         "name": "43",
         "opacity": 0.5,
         "showscale": false,
         "type": "mesh3d",
         "x": [
          -1.0700100660324097,
          -1.0700100660324097,
          -1.8199900388717651,
          -1.8199900388717651
         ],
         "y": [
          0.2000100016593933,
          0.5399900078773499,
          0.5399900078773499,
          0.2000100016593933
         ],
         "z": [
          0,
          0,
          0,
          0
         ]
        },
        {
         "color": "grey",
         "flatshading": true,
         "hoverinfo": "name",
         "i": [
          0,
          2
         ],
         "j": [
          1,
          3
         ],
         "k": [
          2,
          0
         ],
         "name": "44",
         "opacity": 0.5,
         "showscale": false,
         "type": "mesh3d",
         "x": [
          1.0700100660324097,
          1.0700100660324097,
          1.8199900388717651,
          1.8199900388717651
         ],
         "y": [
          0.5399900078773499,
          0.2000100016593933,
          0.2000100016593933,
          0.5399900078773499
         ],
         "z": [
          0,
          0,
          0,
          0
         ]
        },
        {
         "color": "grey",
         "flatshading": true,
         "hoverinfo": "name",
         "i": [
          0,
          2
         ],
         "j": [
          1,
          3
         ],
         "k": [
          2,
          0
         ],
         "name": "45",
         "opacity": 0.5,
         "showscale": false,
         "type": "mesh3d",
         "x": [
          -1.0700100660324097,
          -1.0700100660324097,
          -1.8199900388717651,
          -1.8199900388717651
         ],
         "y": [
          -0.5399900078773499,
          -0.2000100016593933,
          -0.2000100016593933,
          -0.5399900078773499
         ],
         "z": [
          0,
          0,
          0,
          0
         ]
        },
        {
         "color": "grey",
         "flatshading": true,
         "hoverinfo": "name",
         "i": [
          0,
          2
         ],
         "j": [
          1,
          3
         ],
         "k": [
          2,
          0
         ],
         "name": "46",
         "opacity": 0.5,
         "showscale": false,
         "type": "mesh3d",
         "x": [
          1.0700100660324097,
          1.0700100660324097,
          1.8199900388717651,
          1.8199900388717651
         ],
         "y": [
          -0.2000100016593933,
          -0.5399900078773499,
          -0.5399900078773499,
          -0.2000100016593933
         ],
         "z": [
          0,
          0,
          0,
          0
         ]
        }
       ],
       "layout": {
        "margin": {
         "b": 0,
         "l": 0,
         "r": 0,
         "t": 0
        },
        "scene": {
         "aspectratio": {
          "x": 3,
          "y": 2,
          "z": 1
         },
         "camera": {
          "eye": {
           "x": 0,
           "y": -1.5,
           "z": 3
          }
         },
         "zaxis": {
          "range": [
           0,
           0.1
          ]
         }
        },
        "template": {
         "data": {
          "bar": [
           {
            "error_x": {
             "color": "#2a3f5f"
            },
            "error_y": {
             "color": "#2a3f5f"
            },
            "marker": {
             "line": {
              "color": "#E5ECF6",
              "width": 0.5
             },
             "pattern": {
              "fillmode": "overlay",
              "size": 10,
              "solidity": 0.2
             }
            },
            "type": "bar"
           }
          ],
          "barpolar": [
           {
            "marker": {
             "line": {
              "color": "#E5ECF6",
              "width": 0.5
             },
             "pattern": {
              "fillmode": "overlay",
              "size": 10,
              "solidity": 0.2
             }
            },
            "type": "barpolar"
           }
          ],
          "carpet": [
           {
            "aaxis": {
             "endlinecolor": "#2a3f5f",
             "gridcolor": "white",
             "linecolor": "white",
             "minorgridcolor": "white",
             "startlinecolor": "#2a3f5f"
            },
            "baxis": {
             "endlinecolor": "#2a3f5f",
             "gridcolor": "white",
             "linecolor": "white",
             "minorgridcolor": "white",
             "startlinecolor": "#2a3f5f"
            },
            "type": "carpet"
           }
          ],
          "choropleth": [
           {
            "colorbar": {
             "outlinewidth": 0,
             "ticks": ""
            },
            "type": "choropleth"
           }
          ],
          "contour": [
           {
            "colorbar": {
             "outlinewidth": 0,
             "ticks": ""
            },
            "colorscale": [
             [
              0,
              "#0d0887"
             ],
             [
              0.1111111111111111,
              "#46039f"
             ],
             [
              0.2222222222222222,
              "#7201a8"
             ],
             [
              0.3333333333333333,
              "#9c179e"
             ],
             [
              0.4444444444444444,
              "#bd3786"
             ],
             [
              0.5555555555555556,
              "#d8576b"
             ],
             [
              0.6666666666666666,
              "#ed7953"
             ],
             [
              0.7777777777777778,
              "#fb9f3a"
             ],
             [
              0.8888888888888888,
              "#fdca26"
             ],
             [
              1,
              "#f0f921"
             ]
            ],
            "type": "contour"
           }
          ],
          "contourcarpet": [
           {
            "colorbar": {
             "outlinewidth": 0,
             "ticks": ""
            },
            "type": "contourcarpet"
           }
          ],
          "heatmap": [
           {
            "colorbar": {
             "outlinewidth": 0,
             "ticks": ""
            },
            "colorscale": [
             [
              0,
              "#0d0887"
             ],
             [
              0.1111111111111111,
              "#46039f"
             ],
             [
              0.2222222222222222,
              "#7201a8"
             ],
             [
              0.3333333333333333,
              "#9c179e"
             ],
             [
              0.4444444444444444,
              "#bd3786"
             ],
             [
              0.5555555555555556,
              "#d8576b"
             ],
             [
              0.6666666666666666,
              "#ed7953"
             ],
             [
              0.7777777777777778,
              "#fb9f3a"
             ],
             [
              0.8888888888888888,
              "#fdca26"
             ],
             [
              1,
              "#f0f921"
             ]
            ],
            "type": "heatmap"
           }
          ],
          "heatmapgl": [
           {
            "colorbar": {
             "outlinewidth": 0,
             "ticks": ""
            },
            "colorscale": [
             [
              0,
              "#0d0887"
             ],
             [
              0.1111111111111111,
              "#46039f"
             ],
             [
              0.2222222222222222,
              "#7201a8"
             ],
             [
              0.3333333333333333,
              "#9c179e"
             ],
             [
              0.4444444444444444,
              "#bd3786"
             ],
             [
              0.5555555555555556,
              "#d8576b"
             ],
             [
              0.6666666666666666,
              "#ed7953"
             ],
             [
              0.7777777777777778,
              "#fb9f3a"
             ],
             [
              0.8888888888888888,
              "#fdca26"
             ],
             [
              1,
              "#f0f921"
             ]
            ],
            "type": "heatmapgl"
           }
          ],
          "histogram": [
           {
            "marker": {
             "pattern": {
              "fillmode": "overlay",
              "size": 10,
              "solidity": 0.2
             }
            },
            "type": "histogram"
           }
          ],
          "histogram2d": [
           {
            "colorbar": {
             "outlinewidth": 0,
             "ticks": ""
            },
            "colorscale": [
             [
              0,
              "#0d0887"
             ],
             [
              0.1111111111111111,
              "#46039f"
             ],
             [
              0.2222222222222222,
              "#7201a8"
             ],
             [
              0.3333333333333333,
              "#9c179e"
             ],
             [
              0.4444444444444444,
              "#bd3786"
             ],
             [
              0.5555555555555556,
              "#d8576b"
             ],
             [
              0.6666666666666666,
              "#ed7953"
             ],
             [
              0.7777777777777778,
              "#fb9f3a"
             ],
             [
              0.8888888888888888,
              "#fdca26"
             ],
             [
              1,
              "#f0f921"
             ]
            ],
            "type": "histogram2d"
           }
          ],
          "histogram2dcontour": [
           {
            "colorbar": {
             "outlinewidth": 0,
             "ticks": ""
            },
            "colorscale": [
             [
              0,
              "#0d0887"
             ],
             [
              0.1111111111111111,
              "#46039f"
             ],
             [
              0.2222222222222222,
              "#7201a8"
             ],
             [
              0.3333333333333333,
              "#9c179e"
             ],
             [
              0.4444444444444444,
              "#bd3786"
             ],
             [
              0.5555555555555556,
              "#d8576b"
             ],
             [
              0.6666666666666666,
              "#ed7953"
             ],
             [
              0.7777777777777778,
              "#fb9f3a"
             ],
             [
              0.8888888888888888,
              "#fdca26"
             ],
             [
              1,
              "#f0f921"
             ]
            ],
            "type": "histogram2dcontour"
           }
          ],
          "mesh3d": [
           {
            "colorbar": {
             "outlinewidth": 0,
             "ticks": ""
            },
            "type": "mesh3d"
           }
          ],
          "parcoords": [
           {
            "line": {
             "colorbar": {
              "outlinewidth": 0,
              "ticks": ""
             }
            },
            "type": "parcoords"
           }
          ],
          "pie": [
           {
            "automargin": true,
            "type": "pie"
           }
          ],
          "scatter": [
           {
            "fillpattern": {
             "fillmode": "overlay",
             "size": 10,
             "solidity": 0.2
            },
            "type": "scatter"
           }
          ],
          "scatter3d": [
           {
            "line": {
             "colorbar": {
              "outlinewidth": 0,
              "ticks": ""
             }
            },
            "marker": {
             "colorbar": {
              "outlinewidth": 0,
              "ticks": ""
             }
            },
            "type": "scatter3d"
           }
          ],
          "scattercarpet": [
           {
            "marker": {
             "colorbar": {
              "outlinewidth": 0,
              "ticks": ""
             }
            },
            "type": "scattercarpet"
           }
          ],
          "scattergeo": [
           {
            "marker": {
             "colorbar": {
              "outlinewidth": 0,
              "ticks": ""
             }
            },
            "type": "scattergeo"
           }
          ],
          "scattergl": [
           {
            "marker": {
             "colorbar": {
              "outlinewidth": 0,
              "ticks": ""
             }
            },
            "type": "scattergl"
           }
          ],
          "scattermapbox": [
           {
            "marker": {
             "colorbar": {
              "outlinewidth": 0,
              "ticks": ""
             }
            },
            "type": "scattermapbox"
           }
          ],
          "scatterpolar": [
           {
            "marker": {
             "colorbar": {
              "outlinewidth": 0,
              "ticks": ""
             }
            },
            "type": "scatterpolar"
           }
          ],
          "scatterpolargl": [
           {
            "marker": {
             "colorbar": {
              "outlinewidth": 0,
              "ticks": ""
             }
            },
            "type": "scatterpolargl"
           }
          ],
          "scatterternary": [
           {
            "marker": {
             "colorbar": {
              "outlinewidth": 0,
              "ticks": ""
             }
            },
            "type": "scatterternary"
           }
          ],
          "surface": [
           {
            "colorbar": {
             "outlinewidth": 0,
             "ticks": ""
            },
            "colorscale": [
             [
              0,
              "#0d0887"
             ],
             [
              0.1111111111111111,
              "#46039f"
             ],
             [
              0.2222222222222222,
              "#7201a8"
             ],
             [
              0.3333333333333333,
              "#9c179e"
             ],
             [
              0.4444444444444444,
              "#bd3786"
             ],
             [
              0.5555555555555556,
              "#d8576b"
             ],
             [
              0.6666666666666666,
              "#ed7953"
             ],
             [
              0.7777777777777778,
              "#fb9f3a"
             ],
             [
              0.8888888888888888,
              "#fdca26"
             ],
             [
              1,
              "#f0f921"
             ]
            ],
            "type": "surface"
           }
          ],
          "table": [
           {
            "cells": {
             "fill": {
              "color": "#EBF0F8"
             },
             "line": {
              "color": "white"
             }
            },
            "header": {
             "fill": {
              "color": "#C8D4E3"
             },
             "line": {
              "color": "white"
             }
            },
            "type": "table"
           }
          ]
         },
         "layout": {
          "annotationdefaults": {
           "arrowcolor": "#2a3f5f",
           "arrowhead": 0,
           "arrowwidth": 1
          },
          "autotypenumbers": "strict",
          "coloraxis": {
           "colorbar": {
            "outlinewidth": 0,
            "ticks": ""
           }
          },
          "colorscale": {
           "diverging": [
            [
             0,
             "#8e0152"
            ],
            [
             0.1,
             "#c51b7d"
            ],
            [
             0.2,
             "#de77ae"
            ],
            [
             0.3,
             "#f1b6da"
            ],
            [
             0.4,
             "#fde0ef"
            ],
            [
             0.5,
             "#f7f7f7"
            ],
            [
             0.6,
             "#e6f5d0"
            ],
            [
             0.7,
             "#b8e186"
            ],
            [
             0.8,
             "#7fbc41"
            ],
            [
             0.9,
             "#4d9221"
            ],
            [
             1,
             "#276419"
            ]
           ],
           "sequential": [
            [
             0,
             "#0d0887"
            ],
            [
             0.1111111111111111,
             "#46039f"
            ],
            [
             0.2222222222222222,
             "#7201a8"
            ],
            [
             0.3333333333333333,
             "#9c179e"
            ],
            [
             0.4444444444444444,
             "#bd3786"
            ],
            [
             0.5555555555555556,
             "#d8576b"
            ],
            [
             0.6666666666666666,
             "#ed7953"
            ],
            [
             0.7777777777777778,
             "#fb9f3a"
            ],
            [
             0.8888888888888888,
             "#fdca26"
            ],
            [
             1,
             "#f0f921"
            ]
           ],
           "sequentialminus": [
            [
             0,
             "#0d0887"
            ],
            [
             0.1111111111111111,
             "#46039f"
            ],
            [
             0.2222222222222222,
             "#7201a8"
            ],
            [
             0.3333333333333333,
             "#9c179e"
            ],
            [
             0.4444444444444444,
             "#bd3786"
            ],
            [
             0.5555555555555556,
             "#d8576b"
            ],
            [
             0.6666666666666666,
             "#ed7953"
            ],
            [
             0.7777777777777778,
             "#fb9f3a"
            ],
            [
             0.8888888888888888,
             "#fdca26"
            ],
            [
             1,
             "#f0f921"
            ]
           ]
          },
          "colorway": [
           "#636efa",
           "#EF553B",
           "#00cc96",
           "#ab63fa",
           "#FFA15A",
           "#19d3f3",
           "#FF6692",
           "#B6E880",
           "#FF97FF",
           "#FECB52"
          ],
          "font": {
           "color": "#2a3f5f"
          },
          "geo": {
           "bgcolor": "white",
           "lakecolor": "white",
           "landcolor": "#E5ECF6",
           "showlakes": true,
           "showland": true,
           "subunitcolor": "white"
          },
          "hoverlabel": {
           "align": "left"
          },
          "hovermode": "closest",
          "mapbox": {
           "style": "light"
          },
          "paper_bgcolor": "white",
          "plot_bgcolor": "#E5ECF6",
          "polar": {
           "angularaxis": {
            "gridcolor": "white",
            "linecolor": "white",
            "ticks": ""
           },
           "bgcolor": "#E5ECF6",
           "radialaxis": {
            "gridcolor": "white",
            "linecolor": "white",
            "ticks": ""
           }
          },
          "scene": {
           "xaxis": {
            "backgroundcolor": "#E5ECF6",
            "gridcolor": "white",
            "gridwidth": 2,
            "linecolor": "white",
            "showbackground": true,
            "ticks": "",
            "zerolinecolor": "white"
           },
           "yaxis": {
            "backgroundcolor": "#E5ECF6",
            "gridcolor": "white",
            "gridwidth": 2,
            "linecolor": "white",
            "showbackground": true,
            "ticks": "",
            "zerolinecolor": "white"
           },
           "zaxis": {
            "backgroundcolor": "#E5ECF6",
            "gridcolor": "white",
            "gridwidth": 2,
            "linecolor": "white",
            "showbackground": true,
            "ticks": "",
            "zerolinecolor": "white"
           }
          },
          "shapedefaults": {
           "line": {
            "color": "#2a3f5f"
           }
          },
          "ternary": {
           "aaxis": {
            "gridcolor": "white",
            "linecolor": "white",
            "ticks": ""
           },
           "baxis": {
            "gridcolor": "white",
            "linecolor": "white",
            "ticks": ""
           },
           "bgcolor": "#E5ECF6",
           "caxis": {
            "gridcolor": "white",
            "linecolor": "white",
            "ticks": ""
           }
          },
          "title": {
           "x": 0.05
          },
          "xaxis": {
           "automargin": true,
           "gridcolor": "white",
           "linecolor": "white",
           "ticks": "",
           "title": {
            "standoff": 15
           },
           "zerolinecolor": "white",
           "zerolinewidth": 2
          },
          "yaxis": {
           "automargin": true,
           "gridcolor": "white",
           "linecolor": "white",
           "ticks": "",
           "title": {
            "standoff": 15
           },
           "zerolinecolor": "white",
           "zerolinewidth": 2
          }
         }
        }
       }
      }
     },
     "metadata": {},
     "output_type": "display_data"
    }
   ],
   "source": [
    "bowtie.plot(40)"
   ]
  }
 ],
 "metadata": {
  "kernelspec": {
   "display_name": "base",
   "language": "python",
   "name": "python3"
  },
  "language_info": {
   "codemirror_mode": {
    "name": "ipython",
    "version": 3
   },
   "file_extension": ".py",
   "mimetype": "text/x-python",
   "name": "python",
   "nbconvert_exporter": "python",
   "pygments_lexer": "ipython3",
   "version": "3.11.4"
  }
 },
 "nbformat": 4,
 "nbformat_minor": 2
}
